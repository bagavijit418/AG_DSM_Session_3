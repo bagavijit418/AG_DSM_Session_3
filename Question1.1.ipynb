{
 "cells": [
  {
   "cell_type": "markdown",
   "metadata": {},
   "source": [
    "Write a Python Program to implement your own myreduce() function which works exactly\n",
    "like Python's built-in function reduce()"
   ]
  },
  {
   "cell_type": "code",
   "execution_count": 2,
   "metadata": {},
   "outputs": [
    {
     "name": "stdout",
     "output_type": "stream",
     "text": [
      "Input list :  [2, 3, 5, 67, 8, 9, 90]\n",
      "Output using reduce function :  184\n",
      "Output using myreduce function :  184\n"
     ]
    }
   ],
   "source": [
    "import functools as ft\n",
    "input_lst = [2,3,5,67,8,9,90]\n",
    "\n",
    "\n",
    "funsum = lambda a,b:a+b\n",
    "\n",
    "def myreduce(fun,input_lst):\n",
    "    i=0\n",
    "    sum=0\n",
    "    while i < len (input_lst):\n",
    "        sum=fun(sum,input_lst[i])\n",
    "        i=i+1\n",
    "    return sum\n",
    "\n",
    "#using reduce function\n",
    "output_red = ft.reduce(funsum, input_lst)\n",
    "\n",
    "print (\"Input list : \",input_lst)\n",
    "print(\"Output using reduce function : \",output_red)\n",
    "print(\"Output using myreduce function : \", myreduce(funsum,input_lst))"
   ]
  },
  {
   "cell_type": "code",
   "execution_count": null,
   "metadata": {},
   "outputs": [],
   "source": []
  }
 ],
 "metadata": {
  "kernelspec": {
   "display_name": "Python 3",
   "language": "python",
   "name": "python3"
  },
  "language_info": {
   "codemirror_mode": {
    "name": "ipython",
    "version": 3
   },
   "file_extension": ".py",
   "mimetype": "text/x-python",
   "name": "python",
   "nbconvert_exporter": "python",
   "pygments_lexer": "ipython3",
   "version": "3.6.4"
  }
 },
 "nbformat": 4,
 "nbformat_minor": 2
}
