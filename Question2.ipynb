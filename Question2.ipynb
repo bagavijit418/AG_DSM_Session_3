{
 "cells": [
  {
   "cell_type": "markdown",
   "metadata": {},
   "source": [
    "Implement List comprehensions to produce the following lists.\n",
    "Write List comprehensions to produce the following Lists\n",
    "['A', 'C', 'A', 'D', 'G', 'I', ’L’, ‘ D’]\n",
    "['x', 'xx', 'xxx', 'xxxx', 'y', 'yy', 'yyy', 'yyyy', 'z', 'zz', 'zzz', 'zzzz']\n",
    "['x', 'y', 'z', 'xx', 'yy', 'zz', 'xx', 'yy', 'zz', 'xxxx', 'yyyy', 'zzzz']\n",
    "[[2], [3], [4], [3], [4], [5], [4], [5], [6]]\n",
    "[[2, 3, 4, 5], [3, 4, 5, 6], [4, 5, 6, 7], [5, 6, 7, 8]]\n",
    "[(1, 1), (2, 1), (3, 1), (1, 2), (2, 2), (3, 2), (1, 3), (2, 3), (3, 3)]"
   ]
  },
  {
   "cell_type": "code",
   "execution_count": null,
   "metadata": {},
   "outputs": [],
   "source": [
    "output_lst = [x for x in \"ACADGILD\"]\n",
    "print (\"'ACADGILD' string is converted to list :\",output_lst )\n",
    "\n",
    "output_lst1 = [x*y for x in \"XYZ\" for y in range(1,5) ]\n",
    "print (\"2nd example : \",output_lst1)\n",
    "\n",
    "output_lst2 = [x*y for y in range(1,5) for x in \"XYZ\" ]\n",
    "print (\"3rd example : \",output_lst2)\n",
    "\n",
    "output_lst3 = [[x+y] for x in range(1,4) for y in range(1,4) ]\n",
    "print (\"4th example : \",output_lst3)\n",
    "\n",
    "output_lst4 = [[x+y for y in range (1,5)] for x in range(1,5)]\n",
    "print (\"5th example : \",output_lst4)\n",
    "\n",
    "output_lst5 = [(x,y) for x in range(1,4) for y in range(1,4) ]\n",
    "print (\"6th example : \",output_lst5)"
   ]
  },
  {
   "cell_type": "code",
   "execution_count": null,
   "metadata": {},
   "outputs": [],
   "source": []
  }
 ],
 "metadata": {
  "kernelspec": {
   "display_name": "Python 3",
   "language": "python",
   "name": "python3"
  },
  "language_info": {
   "codemirror_mode": {
    "name": "ipython",
    "version": 3
   },
   "file_extension": ".py",
   "mimetype": "text/x-python",
   "name": "python",
   "nbconvert_exporter": "python",
   "pygments_lexer": "ipython3",
   "version": "3.6.4"
  }
 },
 "nbformat": 4,
 "nbformat_minor": 2
}
