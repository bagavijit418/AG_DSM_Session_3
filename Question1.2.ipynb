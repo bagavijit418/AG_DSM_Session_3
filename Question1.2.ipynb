{
 "cells": [
  {
   "cell_type": "markdown",
   "metadata": {},
   "source": [
    "Write a Python program to implement your own myfilter() function which works exactly like\n",
    "Python's built-in function filter()"
   ]
  },
  {
   "cell_type": "code",
   "execution_count": 9,
   "metadata": {},
   "outputs": [
    {
     "name": "stdout",
     "output_type": "stream",
     "text": [
      "Output using filter function :  [2, 8, 90]\n",
      "Output using myfilter function :  [2, 8, 90]\n"
     ]
    }
   ],
   "source": [
    "input_lst = [2,3,5,67,8,9,90]\n",
    "\n",
    "\n",
    "funsum = lambda a:a%2==0\n",
    "\n",
    "def myfilter(fun,input_lst):\n",
    "    ret_out=[]\n",
    "    for item in input_lst:\n",
    "        if fun(item):\n",
    "            ret_out.append(item)\n",
    "    return ret_out\n",
    "\n",
    "#using filter function\n",
    "output_fil=[]\n",
    "for item in filter(funsum,input_lst):\n",
    "    output_fil.append(item)\n",
    "\n",
    "print(\"Output using filter function : \",output_fil)\n",
    "print(\"Output using myfilter function : \", myfilter(funsum,input_lst))"
   ]
  },
  {
   "cell_type": "code",
   "execution_count": null,
   "metadata": {},
   "outputs": [],
   "source": []
  }
 ],
 "metadata": {
  "kernelspec": {
   "display_name": "Python 3",
   "language": "python",
   "name": "python3"
  },
  "language_info": {
   "codemirror_mode": {
    "name": "ipython",
    "version": 3
   },
   "file_extension": ".py",
   "mimetype": "text/x-python",
   "name": "python",
   "nbconvert_exporter": "python",
   "pygments_lexer": "ipython3",
   "version": "3.6.4"
  }
 },
 "nbformat": 4,
 "nbformat_minor": 2
}
